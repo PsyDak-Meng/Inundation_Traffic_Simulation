{
 "cells": [
  {
   "cell_type": "code",
   "execution_count": null,
   "id": "f82a0858",
   "metadata": {},
   "outputs": [],
   "source": [
    "from preprocess import *"
   ]
  },
  {
   "cell_type": "markdown",
   "id": "7c7835cd",
   "metadata": {},
   "source": [
    "# Data import"
   ]
  },
  {
   "cell_type": "code",
   "execution_count": null,
   "id": "be131d1e",
   "metadata": {},
   "outputs": [],
   "source": [
    "# import roads data\n",
    "\"\"\"\n",
    "The column named 'travelTimeIncreaseRatio' in the roads_shape.shp is truncated into 'travelTime' due to the length limited set by geopands.\n",
    "This column is actually the travel distance increase ratio (equal to travel time increase ratio if vehicle speed is assumed to be same) we want to get.\n",
    "So, this column is dropped at the beginning. It will be added again as travelTimeIncreaseRatio in the ending of computation.\n",
    "\"\"\"\n",
    "roads = readRoads('./data/roads/roads_shape.shp').drop(['travelTime'], axis = 1) \n",
    "roads_line = readRoads('./data/roads/roads_line.shp')\n",
    "roads['line'] = roads_line['geometry']\n",
    "roads = roads.rename(columns = {\"geometry\": \"surface\"})\n",
    "roads = roads.set_geometry('surface')\n",
    "\n",
    "\n",
    "# create graph from roads\n",
    "graph = roads2Graph(roads) # NOTE: the graph is un-directed right now, the logic should be checked if changed to directed\n",
    "\n",
    "# read the location of rescue squads and attach them to graph nodes \n",
    "rescue = readRescue('./data/rescueTeamLocation/rescueStations.txt', 'EPSG:4326', roads)"
   ]
  },
  {
   "cell_type": "markdown",
   "id": "e78e5395",
   "metadata": {},
   "source": [
    "# Disruption analysis"
   ]
  },
  {
   "cell_type": "code",
   "execution_count": null,
   "id": "97f875e4",
   "metadata": {
    "scrolled": true
   },
   "outputs": [],
   "source": [
    "def _addPathLen2Graph(graph, rescue, weight, newAttribute_rescueSquad, newAttribute_path):\n",
    "    # some roads are disconnected from all the rescue station even in normal time (as the raw data indicates)\n",
    "    voronoi = nx.voronoi_cells(graph, set(rescue.OBJECTID_nearestRoad.unique()), weight = weight)\n",
    "    for rescueSquad, destinations in zip(voronoi.keys(), voronoi.values()):\n",
    "        if rescueSquad == 'unreachable':\n",
    "            print(len(destinations), 'nodes are unreachable when building voronoi for', newAttribute_path)\n",
    "            for des in destinations:\n",
    "                graph.nodes[des][newAttribute_rescueSquad] = np.nan\n",
    "                graph.nodes[des][newAttribute_path] = math.inf # set path len to inf if it's disconnected from rescues\n",
    "#                 print('NOTE: node', des, 'is unreachable when building voronoi for', newAttribute_path)\n",
    "        else:\n",
    "            for des in destinations:\n",
    "                shortestPath = nx.shortest_path_length(graph, source = rescueSquad, target = des, weight = weight)\n",
    "                graph.nodes[des][newAttribute_path] = shortestPath\n",
    "                graph.nodes[des][newAttribute_rescueSquad] = rescueSquad\n",
    "                if shortestPath == 0:\n",
    "                    graph.nodes[des][newAttribute_path] = 1\n",
    "                if shortestPath == math.inf:\n",
    "                    graph.nodes[des][newAttribute_rescueSquad] = math.inf\n",
    "    return graph, voronoi\n",
    "\n",
    "def _addDisruption(graph, roads, newAttribute = 'weightWithDisruption', threshold = 3):\n",
    "    nx.set_edge_attributes(graph, nx.get_edge_attributes(graph, \"weight\"), newAttribute)\n",
    "    disruptedRoads = roads[roads['waterDepth'] >= threshold]['OBJECTID'].to_list()\n",
    "    for disruption in disruptedRoads:\n",
    "        for edge in graph.edges(disruption):\n",
    "            graph.edges()[edge][newAttribute] = math.inf # set edge weight to inf if it's disrupted by inundation\n",
    "    return graph\n",
    "\n",
    "def _changeValue4DisruptedRoad(roads, graph, threshold = 3):\n",
    "    # the disrupted road itself is not disconnected, so assign the shortestPath of adjancent road to this road\n",
    "    for disruption in roads[roads['waterDepth'] >= threshold]['OBJECTID'].to_list():\n",
    "        pathLen = []\n",
    "        edgeNum = []\n",
    "        for edge in graph.edges(disruption):\n",
    "            pathLen.append(graph.nodes()[edge[1]]['shortestPathLenWithDisruption'])\n",
    "            edgeNum.append(edge[1])\n",
    "        if pathLen != []: # in case there are disconnected single node\n",
    "            graph.nodes()[disruption]['shortestPathLenWithDisruption'] = min(pathLen)\n",
    "            if min(pathLen) != math.inf:\n",
    "                graph.nodes()[disruption]['rescueAssignedWithDisruption'] = edgeNum[pathLen.index(min(pathLen))]\n",
    "            else:\n",
    "                graph.nodes()[disruption]['rescueAssignedWithDisruption'] = np.nan\n",
    "    return graph\n",
    "\n",
    "def runRoutingWithDisruption(graph, rescue, roads):\n",
    "    graph, _ = _addPathLen2Graph(graph, rescue, 'weight', 'rescueAssigned', 'shortestPathLen')\n",
    "    graphDisrupted = _addDisruption(graph, roads, threshold = 1)\n",
    "    graph, _ = _addPathLen2Graph(graphDisrupted, rescue, 'weightWithDisruption', 'rescueAssignedWithDisruption', 'shortestPathLenWithDisruption') \n",
    "    graph = _changeValue4DisruptedRoad(roads, graph, threshold = 1)\n",
    "    return graph\n",
    "\n",
    "def getDisruptionRatio(graph):\n",
    "    nx.set_node_attributes(graph, \n",
    "                           {x[0]: y[1]/x[1] if y[1]/x[1] != math.inf else np.nan \\\n",
    "                            for x, y in zip(nx.get_node_attributes(graph, \"shortestPathLen\").items(), \n",
    "                                            nx.get_node_attributes(graph, \"shortestPathLenWithDisruption\").items() ) },\n",
    "                           'travelTimeIncreaseRatio')\n",
    "    roads['travelTimeIncreaseRatio'] = roads['OBJECTID'].map(nx.get_node_attributes(graph, \"travelTimeIncreaseRatio\"))    \n",
    "    return graph\n"
   ]
  },
  {
   "cell_type": "code",
   "execution_count": null,
   "id": "93ccf2b3",
   "metadata": {},
   "outputs": [],
   "source": [
    "# calculate ratios\n",
    "graph = runRoutingWithDisruption(graph, rescue, roads)\n",
    "graph = getDisruptionRatio(graph)"
   ]
  },
  {
   "cell_type": "markdown",
   "id": "979fa5a2",
   "metadata": {},
   "source": [
    "# Visualization"
   ]
  },
  {
   "cell_type": "code",
   "execution_count": null,
   "id": "2edd775a",
   "metadata": {},
   "outputs": [],
   "source": [
    "def showWaterOnRoads(roads, figsize = (100, 50), vmax = 6):\n",
    "    fig, ax = plt.subplots(figsize = figsize)\n",
    "    roadsLineWater = roads.loc[:, ['line', 'waterDepth']].set_geometry('line')\n",
    "    ax = roadsLineWater.plot(ax = ax, \n",
    "                        column = 'waterDepth', \n",
    "                        zorder = 5, \n",
    "                        cmap = 'OrRd',\n",
    "                        legend = True,\n",
    "                        vmax = vmax,\n",
    "                       )\n",
    "    cx.add_basemap(ax, crs = roads.crs, source = cx.providers.CartoDB.Positron)\n",
    "    ax.set_axis_off()\n",
    "    \n",
    "def showTravelUpRatioOnRoads(roads, figsize = (100, 50), vmax = 10):\n",
    "    fig, ax = plt.subplots(figsize = figsize)\n",
    "    roadsLineWater = roads.loc[:, ['line', 'travelTimeIncreaseRatio']].set_geometry('line')\n",
    "    ax = roadsLineWater.plot(ax = ax, \n",
    "                        column = 'travelTimeIncreaseRatio', \n",
    "                        zorder = 5, \n",
    "                        cmap = 'OrRd',\n",
    "                        legend = True,\n",
    "                        vmax = vmax,\n",
    "                        vmin = 1,\n",
    "                       )\n",
    "    cx.add_basemap(ax, crs = roads.crs, source = cx.providers.CartoDB.Positron)\n",
    "    ax.set_axis_off()"
   ]
  },
  {
   "cell_type": "code",
   "execution_count": null,
   "id": "d5ee8f24",
   "metadata": {},
   "outputs": [],
   "source": [
    "\"\"\"\n",
    "The 2nd argument sets the size of the figure, which also determines th resolution of the figure.\n",
    "The 3rd arguement set the maximum value that can be shown in the figure. There are some outliers in the results. \n",
    "    The visualization would be less informative if this arguement is missing or high.\n",
    "\"\"\"\n",
    "showWaterOnRoads(roads, (50, 25), 6) # the depth of water on roads\n",
    "showTravelUpRatioOnRoads(roads, (20, 12), 10) # the travel distance/time increase ratio of roads"
   ]
  }
 ],
 "metadata": {
  "kernelspec": {
   "display_name": "Python [conda env:emsTravelTime]",
   "language": "python",
   "name": "conda-env-emsTravelTime-py"
  },
  "language_info": {
   "codemirror_mode": {
    "name": "ipython",
    "version": 3
   },
   "file_extension": ".py",
   "mimetype": "text/x-python",
   "name": "python",
   "nbconvert_exporter": "python",
   "pygments_lexer": "ipython3",
   "version": "3.8.16"
  }
 },
 "nbformat": 4,
 "nbformat_minor": 5
}
